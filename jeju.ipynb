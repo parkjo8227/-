{
 "cells": [
  {
   "cell_type": "code",
   "execution_count": null,
   "id": "bda54222",
   "metadata": {},
   "outputs": [],
   "source": [
    "import folium\n",
    "\n",
    "Mt_Hanla = [33.362500, 126.533694]\n",
    "map_jeju = folium.Map(location = Mt_Hanla, zoom_start =11)\n",
    "\n",
    "for i in range(len(location_data)):\n",
    "    name = location_data['name_official'][i]\n",
    "    count = location_data['place'][i]\n",
    "    size = int(count)*2\n",
    "    long = float(location_data['위도'][i])\n",
    "    lat = float(location_data['경도'][i])\n",
    "    folium.CircleMarker((long,lat),radius=size,color='red',popup=name).add_to(map_jeju)\n",
    "    \n",
    "map_jeju2"
   ]
  },
  {
   "cell_type": "code",
   "execution_count": null,
   "id": "e4520fbf",
   "metadata": {},
   "outputs": [],
   "source": [
    "from folium.plugins import MarkerCluster\n",
    "locations = []\n",
    "names = []\n",
    "\n",
    "for i in range(len(location_data)):\n",
    "    data = location_data.iloc[i]\n",
    "    locations.append((float(data['위도']),float(data['경도'])))\n",
    "    names.append(data['name_official'])\n",
    "    \n",
    "Mt_Hanla = [33.362500, 126.533694]\n",
    "map_jeju2 = folium.Map(location = Mt_Hanla, zoom_start =11)\n",
    "\n",
    "marker_cluster = MarkerCluster(locations=locations,\n",
    "                              popups=names, name='Jeju',\n",
    "                              overlay=True, control=True)\n",
    "\n",
    "marker_cluster.add_to(map_jeju2)\n",
    "folium.LayerControl().add_to(map_jeju2)\n",
    "map_jeju2"
   ]
  }
 ],
 "metadata": {
  "kernelspec": {
   "display_name": "Python 3 (ipykernel)",
   "language": "python",
   "name": "python3"
  },
  "language_info": {
   "codemirror_mode": {
    "name": "ipython",
    "version": 3
   },
   "file_extension": ".py",
   "mimetype": "text/x-python",
   "name": "python",
   "nbconvert_exporter": "python",
   "pygments_lexer": "ipython3",
   "version": "3.9.12"
  }
 },
 "nbformat": 4,
 "nbformat_minor": 5
}
